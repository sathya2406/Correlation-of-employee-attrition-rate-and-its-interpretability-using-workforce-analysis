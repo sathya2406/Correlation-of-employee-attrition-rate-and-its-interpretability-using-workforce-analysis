{
 "cells": [
  {
   "cell_type": "code",
   "execution_count": 1,
   "id": "a59faf6a",
   "metadata": {},
   "outputs": [],
   "source": [
    "import pandas as pd, numpy as np\n",
    "import matplotlib.pyplot as plt\n",
    "import seaborn as sb\n",
    "import warnings\n",
    "\n",
    "warnings.filterwarnings('ignore')\n"
   ]
  },
  {
   "cell_type": "code",
   "execution_count": 2,
   "id": "d5dac947",
   "metadata": {},
   "outputs": [
    {
     "data": {
      "text/html": [
       "<div>\n",
       "<style scoped>\n",
       "    .dataframe tbody tr th:only-of-type {\n",
       "        vertical-align: middle;\n",
       "    }\n",
       "\n",
       "    .dataframe tbody tr th {\n",
       "        vertical-align: top;\n",
       "    }\n",
       "\n",
       "    .dataframe thead th {\n",
       "        text-align: right;\n",
       "    }\n",
       "</style>\n",
       "<table border=\"1\" class=\"dataframe\">\n",
       "  <thead>\n",
       "    <tr style=\"text-align: right;\">\n",
       "      <th></th>\n",
       "      <th>EmployeeID</th>\n",
       "      <th>Age</th>\n",
       "      <th>Attrition</th>\n",
       "      <th>BusinessTravel</th>\n",
       "      <th>Department</th>\n",
       "      <th>DistanceFromHome</th>\n",
       "      <th>Education</th>\n",
       "      <th>EducationField</th>\n",
       "      <th>EmployeeCount</th>\n",
       "      <th>Gender</th>\n",
       "      <th>...</th>\n",
       "      <th>TotalWorkingYears</th>\n",
       "      <th>TrainingTimesLastYear</th>\n",
       "      <th>YearsAtCompany</th>\n",
       "      <th>YearsSinceLastPromotion</th>\n",
       "      <th>YearsWithCurrManager</th>\n",
       "      <th>EnvironmentSatisfaction</th>\n",
       "      <th>JobSatisfaction</th>\n",
       "      <th>WorkLifeBalance</th>\n",
       "      <th>JobInvolvement</th>\n",
       "      <th>PerformanceRating</th>\n",
       "    </tr>\n",
       "  </thead>\n",
       "  <tbody>\n",
       "    <tr>\n",
       "      <th>0</th>\n",
       "      <td>1</td>\n",
       "      <td>51</td>\n",
       "      <td>No</td>\n",
       "      <td>Travel_Rarely</td>\n",
       "      <td>Sales</td>\n",
       "      <td>6</td>\n",
       "      <td>2</td>\n",
       "      <td>Life Sciences</td>\n",
       "      <td>1</td>\n",
       "      <td>Female</td>\n",
       "      <td>...</td>\n",
       "      <td>1.0</td>\n",
       "      <td>6</td>\n",
       "      <td>1</td>\n",
       "      <td>0</td>\n",
       "      <td>0</td>\n",
       "      <td>3.0</td>\n",
       "      <td>4.0</td>\n",
       "      <td>2.0</td>\n",
       "      <td>3</td>\n",
       "      <td>3</td>\n",
       "    </tr>\n",
       "    <tr>\n",
       "      <th>1</th>\n",
       "      <td>2</td>\n",
       "      <td>31</td>\n",
       "      <td>Yes</td>\n",
       "      <td>Travel_Frequently</td>\n",
       "      <td>Research &amp; Development</td>\n",
       "      <td>10</td>\n",
       "      <td>1</td>\n",
       "      <td>Life Sciences</td>\n",
       "      <td>1</td>\n",
       "      <td>Female</td>\n",
       "      <td>...</td>\n",
       "      <td>6.0</td>\n",
       "      <td>3</td>\n",
       "      <td>5</td>\n",
       "      <td>1</td>\n",
       "      <td>4</td>\n",
       "      <td>3.0</td>\n",
       "      <td>2.0</td>\n",
       "      <td>4.0</td>\n",
       "      <td>2</td>\n",
       "      <td>4</td>\n",
       "    </tr>\n",
       "    <tr>\n",
       "      <th>2</th>\n",
       "      <td>3</td>\n",
       "      <td>32</td>\n",
       "      <td>No</td>\n",
       "      <td>Travel_Frequently</td>\n",
       "      <td>Research &amp; Development</td>\n",
       "      <td>17</td>\n",
       "      <td>4</td>\n",
       "      <td>Other</td>\n",
       "      <td>1</td>\n",
       "      <td>Male</td>\n",
       "      <td>...</td>\n",
       "      <td>5.0</td>\n",
       "      <td>2</td>\n",
       "      <td>5</td>\n",
       "      <td>0</td>\n",
       "      <td>3</td>\n",
       "      <td>2.0</td>\n",
       "      <td>2.0</td>\n",
       "      <td>1.0</td>\n",
       "      <td>3</td>\n",
       "      <td>3</td>\n",
       "    </tr>\n",
       "    <tr>\n",
       "      <th>3</th>\n",
       "      <td>4</td>\n",
       "      <td>38</td>\n",
       "      <td>No</td>\n",
       "      <td>Non-Travel</td>\n",
       "      <td>Research &amp; Development</td>\n",
       "      <td>2</td>\n",
       "      <td>5</td>\n",
       "      <td>Life Sciences</td>\n",
       "      <td>1</td>\n",
       "      <td>Male</td>\n",
       "      <td>...</td>\n",
       "      <td>13.0</td>\n",
       "      <td>5</td>\n",
       "      <td>8</td>\n",
       "      <td>7</td>\n",
       "      <td>5</td>\n",
       "      <td>4.0</td>\n",
       "      <td>4.0</td>\n",
       "      <td>3.0</td>\n",
       "      <td>2</td>\n",
       "      <td>3</td>\n",
       "    </tr>\n",
       "    <tr>\n",
       "      <th>4</th>\n",
       "      <td>5</td>\n",
       "      <td>32</td>\n",
       "      <td>No</td>\n",
       "      <td>Travel_Rarely</td>\n",
       "      <td>Research &amp; Development</td>\n",
       "      <td>10</td>\n",
       "      <td>1</td>\n",
       "      <td>Medical</td>\n",
       "      <td>1</td>\n",
       "      <td>Male</td>\n",
       "      <td>...</td>\n",
       "      <td>9.0</td>\n",
       "      <td>2</td>\n",
       "      <td>6</td>\n",
       "      <td>0</td>\n",
       "      <td>4</td>\n",
       "      <td>4.0</td>\n",
       "      <td>1.0</td>\n",
       "      <td>3.0</td>\n",
       "      <td>3</td>\n",
       "      <td>3</td>\n",
       "    </tr>\n",
       "  </tbody>\n",
       "</table>\n",
       "<p>5 rows × 29 columns</p>\n",
       "</div>"
      ],
      "text/plain": [
       "   EmployeeID  Age Attrition     BusinessTravel              Department  \\\n",
       "0           1   51        No      Travel_Rarely                   Sales   \n",
       "1           2   31       Yes  Travel_Frequently  Research & Development   \n",
       "2           3   32        No  Travel_Frequently  Research & Development   \n",
       "3           4   38        No         Non-Travel  Research & Development   \n",
       "4           5   32        No      Travel_Rarely  Research & Development   \n",
       "\n",
       "   DistanceFromHome  Education EducationField  EmployeeCount  Gender  ...  \\\n",
       "0                 6          2  Life Sciences              1  Female  ...   \n",
       "1                10          1  Life Sciences              1  Female  ...   \n",
       "2                17          4          Other              1    Male  ...   \n",
       "3                 2          5  Life Sciences              1    Male  ...   \n",
       "4                10          1        Medical              1    Male  ...   \n",
       "\n",
       "   TotalWorkingYears TrainingTimesLastYear YearsAtCompany  \\\n",
       "0                1.0                     6              1   \n",
       "1                6.0                     3              5   \n",
       "2                5.0                     2              5   \n",
       "3               13.0                     5              8   \n",
       "4                9.0                     2              6   \n",
       "\n",
       "   YearsSinceLastPromotion  YearsWithCurrManager EnvironmentSatisfaction  \\\n",
       "0                        0                     0                     3.0   \n",
       "1                        1                     4                     3.0   \n",
       "2                        0                     3                     2.0   \n",
       "3                        7                     5                     4.0   \n",
       "4                        0                     4                     4.0   \n",
       "\n",
       "   JobSatisfaction  WorkLifeBalance  JobInvolvement  PerformanceRating  \n",
       "0              4.0              2.0               3                  3  \n",
       "1              2.0              4.0               2                  4  \n",
       "2              2.0              1.0               3                  3  \n",
       "3              4.0              3.0               2                  3  \n",
       "4              1.0              3.0               3                  3  \n",
       "\n",
       "[5 rows x 29 columns]"
      ]
     },
     "execution_count": 2,
     "metadata": {},
     "output_type": "execute_result"
    }
   ],
   "source": [
    "df = pd.read_csv('general_data.csv')\n",
    "df.head()"
   ]
  },
  {
   "cell_type": "code",
   "execution_count": 3,
   "id": "099e9947",
   "metadata": {},
   "outputs": [
    {
     "data": {
      "text/html": [
       "<div>\n",
       "<style scoped>\n",
       "    .dataframe tbody tr th:only-of-type {\n",
       "        vertical-align: middle;\n",
       "    }\n",
       "\n",
       "    .dataframe tbody tr th {\n",
       "        vertical-align: top;\n",
       "    }\n",
       "\n",
       "    .dataframe thead th {\n",
       "        text-align: right;\n",
       "    }\n",
       "</style>\n",
       "<table border=\"1\" class=\"dataframe\">\n",
       "  <thead>\n",
       "    <tr style=\"text-align: right;\">\n",
       "      <th></th>\n",
       "      <th>EmployeeID</th>\n",
       "      <th>Age</th>\n",
       "      <th>DistanceFromHome</th>\n",
       "      <th>Education</th>\n",
       "      <th>EmployeeCount</th>\n",
       "      <th>JobLevel</th>\n",
       "      <th>MonthlyIncome</th>\n",
       "      <th>NumCompaniesWorked</th>\n",
       "      <th>PercentSalaryHike</th>\n",
       "      <th>StandardHours</th>\n",
       "      <th>...</th>\n",
       "      <th>TotalWorkingYears</th>\n",
       "      <th>TrainingTimesLastYear</th>\n",
       "      <th>YearsAtCompany</th>\n",
       "      <th>YearsSinceLastPromotion</th>\n",
       "      <th>YearsWithCurrManager</th>\n",
       "      <th>EnvironmentSatisfaction</th>\n",
       "      <th>JobSatisfaction</th>\n",
       "      <th>WorkLifeBalance</th>\n",
       "      <th>JobInvolvement</th>\n",
       "      <th>PerformanceRating</th>\n",
       "    </tr>\n",
       "  </thead>\n",
       "  <tbody>\n",
       "    <tr>\n",
       "      <th>count</th>\n",
       "      <td>4410.000000</td>\n",
       "      <td>4410.000000</td>\n",
       "      <td>4410.000000</td>\n",
       "      <td>4410.000000</td>\n",
       "      <td>4410.0</td>\n",
       "      <td>4410.000000</td>\n",
       "      <td>4410.000000</td>\n",
       "      <td>4391.000000</td>\n",
       "      <td>4410.000000</td>\n",
       "      <td>4410.0</td>\n",
       "      <td>...</td>\n",
       "      <td>4401.000000</td>\n",
       "      <td>4410.000000</td>\n",
       "      <td>4410.000000</td>\n",
       "      <td>4410.000000</td>\n",
       "      <td>4410.000000</td>\n",
       "      <td>4385.000000</td>\n",
       "      <td>4390.000000</td>\n",
       "      <td>4372.000000</td>\n",
       "      <td>4410.000000</td>\n",
       "      <td>4410.000000</td>\n",
       "    </tr>\n",
       "    <tr>\n",
       "      <th>mean</th>\n",
       "      <td>2205.500000</td>\n",
       "      <td>36.923810</td>\n",
       "      <td>9.192517</td>\n",
       "      <td>2.912925</td>\n",
       "      <td>1.0</td>\n",
       "      <td>2.063946</td>\n",
       "      <td>65029.312925</td>\n",
       "      <td>2.694830</td>\n",
       "      <td>15.209524</td>\n",
       "      <td>8.0</td>\n",
       "      <td>...</td>\n",
       "      <td>11.279936</td>\n",
       "      <td>2.799320</td>\n",
       "      <td>7.008163</td>\n",
       "      <td>2.187755</td>\n",
       "      <td>4.123129</td>\n",
       "      <td>2.723603</td>\n",
       "      <td>2.728246</td>\n",
       "      <td>2.761436</td>\n",
       "      <td>2.729932</td>\n",
       "      <td>3.153741</td>\n",
       "    </tr>\n",
       "    <tr>\n",
       "      <th>std</th>\n",
       "      <td>1273.201673</td>\n",
       "      <td>9.133301</td>\n",
       "      <td>8.105026</td>\n",
       "      <td>1.023933</td>\n",
       "      <td>0.0</td>\n",
       "      <td>1.106689</td>\n",
       "      <td>47068.888559</td>\n",
       "      <td>2.498887</td>\n",
       "      <td>3.659108</td>\n",
       "      <td>0.0</td>\n",
       "      <td>...</td>\n",
       "      <td>7.782222</td>\n",
       "      <td>1.288978</td>\n",
       "      <td>6.125135</td>\n",
       "      <td>3.221699</td>\n",
       "      <td>3.567327</td>\n",
       "      <td>1.092756</td>\n",
       "      <td>1.101253</td>\n",
       "      <td>0.706245</td>\n",
       "      <td>0.711400</td>\n",
       "      <td>0.360742</td>\n",
       "    </tr>\n",
       "    <tr>\n",
       "      <th>min</th>\n",
       "      <td>1.000000</td>\n",
       "      <td>18.000000</td>\n",
       "      <td>1.000000</td>\n",
       "      <td>1.000000</td>\n",
       "      <td>1.0</td>\n",
       "      <td>1.000000</td>\n",
       "      <td>10090.000000</td>\n",
       "      <td>0.000000</td>\n",
       "      <td>11.000000</td>\n",
       "      <td>8.0</td>\n",
       "      <td>...</td>\n",
       "      <td>0.000000</td>\n",
       "      <td>0.000000</td>\n",
       "      <td>0.000000</td>\n",
       "      <td>0.000000</td>\n",
       "      <td>0.000000</td>\n",
       "      <td>1.000000</td>\n",
       "      <td>1.000000</td>\n",
       "      <td>1.000000</td>\n",
       "      <td>1.000000</td>\n",
       "      <td>3.000000</td>\n",
       "    </tr>\n",
       "    <tr>\n",
       "      <th>25%</th>\n",
       "      <td>1103.250000</td>\n",
       "      <td>30.000000</td>\n",
       "      <td>2.000000</td>\n",
       "      <td>2.000000</td>\n",
       "      <td>1.0</td>\n",
       "      <td>1.000000</td>\n",
       "      <td>29110.000000</td>\n",
       "      <td>1.000000</td>\n",
       "      <td>12.000000</td>\n",
       "      <td>8.0</td>\n",
       "      <td>...</td>\n",
       "      <td>6.000000</td>\n",
       "      <td>2.000000</td>\n",
       "      <td>3.000000</td>\n",
       "      <td>0.000000</td>\n",
       "      <td>2.000000</td>\n",
       "      <td>2.000000</td>\n",
       "      <td>2.000000</td>\n",
       "      <td>2.000000</td>\n",
       "      <td>2.000000</td>\n",
       "      <td>3.000000</td>\n",
       "    </tr>\n",
       "    <tr>\n",
       "      <th>50%</th>\n",
       "      <td>2205.500000</td>\n",
       "      <td>36.000000</td>\n",
       "      <td>7.000000</td>\n",
       "      <td>3.000000</td>\n",
       "      <td>1.0</td>\n",
       "      <td>2.000000</td>\n",
       "      <td>49190.000000</td>\n",
       "      <td>2.000000</td>\n",
       "      <td>14.000000</td>\n",
       "      <td>8.0</td>\n",
       "      <td>...</td>\n",
       "      <td>10.000000</td>\n",
       "      <td>3.000000</td>\n",
       "      <td>5.000000</td>\n",
       "      <td>1.000000</td>\n",
       "      <td>3.000000</td>\n",
       "      <td>3.000000</td>\n",
       "      <td>3.000000</td>\n",
       "      <td>3.000000</td>\n",
       "      <td>3.000000</td>\n",
       "      <td>3.000000</td>\n",
       "    </tr>\n",
       "    <tr>\n",
       "      <th>75%</th>\n",
       "      <td>3307.750000</td>\n",
       "      <td>43.000000</td>\n",
       "      <td>14.000000</td>\n",
       "      <td>4.000000</td>\n",
       "      <td>1.0</td>\n",
       "      <td>3.000000</td>\n",
       "      <td>83800.000000</td>\n",
       "      <td>4.000000</td>\n",
       "      <td>18.000000</td>\n",
       "      <td>8.0</td>\n",
       "      <td>...</td>\n",
       "      <td>15.000000</td>\n",
       "      <td>3.000000</td>\n",
       "      <td>9.000000</td>\n",
       "      <td>3.000000</td>\n",
       "      <td>7.000000</td>\n",
       "      <td>4.000000</td>\n",
       "      <td>4.000000</td>\n",
       "      <td>3.000000</td>\n",
       "      <td>3.000000</td>\n",
       "      <td>3.000000</td>\n",
       "    </tr>\n",
       "    <tr>\n",
       "      <th>max</th>\n",
       "      <td>4410.000000</td>\n",
       "      <td>60.000000</td>\n",
       "      <td>29.000000</td>\n",
       "      <td>5.000000</td>\n",
       "      <td>1.0</td>\n",
       "      <td>5.000000</td>\n",
       "      <td>199990.000000</td>\n",
       "      <td>9.000000</td>\n",
       "      <td>25.000000</td>\n",
       "      <td>8.0</td>\n",
       "      <td>...</td>\n",
       "      <td>40.000000</td>\n",
       "      <td>6.000000</td>\n",
       "      <td>40.000000</td>\n",
       "      <td>15.000000</td>\n",
       "      <td>17.000000</td>\n",
       "      <td>4.000000</td>\n",
       "      <td>4.000000</td>\n",
       "      <td>4.000000</td>\n",
       "      <td>4.000000</td>\n",
       "      <td>4.000000</td>\n",
       "    </tr>\n",
       "  </tbody>\n",
       "</table>\n",
       "<p>8 rows × 21 columns</p>\n",
       "</div>"
      ],
      "text/plain": [
       "        EmployeeID          Age  DistanceFromHome    Education  EmployeeCount  \\\n",
       "count  4410.000000  4410.000000       4410.000000  4410.000000         4410.0   \n",
       "mean   2205.500000    36.923810          9.192517     2.912925            1.0   \n",
       "std    1273.201673     9.133301          8.105026     1.023933            0.0   \n",
       "min       1.000000    18.000000          1.000000     1.000000            1.0   \n",
       "25%    1103.250000    30.000000          2.000000     2.000000            1.0   \n",
       "50%    2205.500000    36.000000          7.000000     3.000000            1.0   \n",
       "75%    3307.750000    43.000000         14.000000     4.000000            1.0   \n",
       "max    4410.000000    60.000000         29.000000     5.000000            1.0   \n",
       "\n",
       "          JobLevel  MonthlyIncome  NumCompaniesWorked  PercentSalaryHike  \\\n",
       "count  4410.000000    4410.000000         4391.000000        4410.000000   \n",
       "mean      2.063946   65029.312925            2.694830          15.209524   \n",
       "std       1.106689   47068.888559            2.498887           3.659108   \n",
       "min       1.000000   10090.000000            0.000000          11.000000   \n",
       "25%       1.000000   29110.000000            1.000000          12.000000   \n",
       "50%       2.000000   49190.000000            2.000000          14.000000   \n",
       "75%       3.000000   83800.000000            4.000000          18.000000   \n",
       "max       5.000000  199990.000000            9.000000          25.000000   \n",
       "\n",
       "       StandardHours  ...  TotalWorkingYears  TrainingTimesLastYear  \\\n",
       "count         4410.0  ...        4401.000000            4410.000000   \n",
       "mean             8.0  ...          11.279936               2.799320   \n",
       "std              0.0  ...           7.782222               1.288978   \n",
       "min              8.0  ...           0.000000               0.000000   \n",
       "25%              8.0  ...           6.000000               2.000000   \n",
       "50%              8.0  ...          10.000000               3.000000   \n",
       "75%              8.0  ...          15.000000               3.000000   \n",
       "max              8.0  ...          40.000000               6.000000   \n",
       "\n",
       "       YearsAtCompany  YearsSinceLastPromotion  YearsWithCurrManager  \\\n",
       "count     4410.000000              4410.000000           4410.000000   \n",
       "mean         7.008163                 2.187755              4.123129   \n",
       "std          6.125135                 3.221699              3.567327   \n",
       "min          0.000000                 0.000000              0.000000   \n",
       "25%          3.000000                 0.000000              2.000000   \n",
       "50%          5.000000                 1.000000              3.000000   \n",
       "75%          9.000000                 3.000000              7.000000   \n",
       "max         40.000000                15.000000             17.000000   \n",
       "\n",
       "       EnvironmentSatisfaction  JobSatisfaction  WorkLifeBalance  \\\n",
       "count              4385.000000      4390.000000      4372.000000   \n",
       "mean                  2.723603         2.728246         2.761436   \n",
       "std                   1.092756         1.101253         0.706245   \n",
       "min                   1.000000         1.000000         1.000000   \n",
       "25%                   2.000000         2.000000         2.000000   \n",
       "50%                   3.000000         3.000000         3.000000   \n",
       "75%                   4.000000         4.000000         3.000000   \n",
       "max                   4.000000         4.000000         4.000000   \n",
       "\n",
       "       JobInvolvement  PerformanceRating  \n",
       "count     4410.000000        4410.000000  \n",
       "mean         2.729932           3.153741  \n",
       "std          0.711400           0.360742  \n",
       "min          1.000000           3.000000  \n",
       "25%          2.000000           3.000000  \n",
       "50%          3.000000           3.000000  \n",
       "75%          3.000000           3.000000  \n",
       "max          4.000000           4.000000  \n",
       "\n",
       "[8 rows x 21 columns]"
      ]
     },
     "execution_count": 3,
     "metadata": {},
     "output_type": "execute_result"
    }
   ],
   "source": [
    "df.describe()"
   ]
  },
  {
   "cell_type": "code",
   "execution_count": 4,
   "id": "526a6601",
   "metadata": {},
   "outputs": [
    {
     "data": {
      "text/plain": [
       "(4410, 29)"
      ]
     },
     "execution_count": 4,
     "metadata": {},
     "output_type": "execute_result"
    }
   ],
   "source": [
    "df.shape"
   ]
  },
  {
   "cell_type": "code",
   "execution_count": 5,
   "id": "fa196bae",
   "metadata": {},
   "outputs": [],
   "source": [
    "df = df.drop('EmployeeID', axis=1)"
   ]
  },
  {
   "cell_type": "code",
   "execution_count": 6,
   "id": "fce85f65",
   "metadata": {},
   "outputs": [
    {
     "data": {
      "text/plain": [
       "(4410, 28)"
      ]
     },
     "execution_count": 6,
     "metadata": {},
     "output_type": "execute_result"
    }
   ],
   "source": [
    "df.shape"
   ]
  },
  {
   "cell_type": "code",
   "execution_count": 7,
   "id": "35bcdebc",
   "metadata": {},
   "outputs": [
    {
     "data": {
      "text/plain": [
       "count    4410.000000\n",
       "mean       36.923810\n",
       "std         9.133301\n",
       "min        18.000000\n",
       "25%        30.000000\n",
       "50%        36.000000\n",
       "75%        43.000000\n",
       "max        60.000000\n",
       "Name: Age, dtype: float64"
      ]
     },
     "execution_count": 7,
     "metadata": {},
     "output_type": "execute_result"
    }
   ],
   "source": [
    "df.Age.describe()"
   ]
  },
  {
   "cell_type": "code",
   "execution_count": 8,
   "id": "9051c369",
   "metadata": {},
   "outputs": [
    {
     "data": {
      "image/png": "[encoded data removed]",
      "text/plain": [
       "<Figure size 432x288 with 1 Axes>"
      ]
     },
     "metadata": {
      "needs_background": "light"
     },
     "output_type": "display_data"
    }
   ],
   "source": [
    "df.Age.value_counts(normalize=True).plot.bar()\n",
    "plt.show()"
   ]
  },
  {
   "cell_type": "markdown",
   "id": "96a6f307",
   "metadata": {},
   "source": [
    "### Bining Age into 3 categories\n",
    "- (17.958, 32.0] : young\n",
    "- (32.0, 46.0] : middle\n",
    "- (46.0, 60.0] : old"
   ]
  },
  {
   "cell_type": "code",
   "execution_count": 9,
   "id": "a7329f0c",
   "metadata": {},
   "outputs": [],
   "source": [
    "df.Age = pd.cut(df.Age, bins=3, right=True, labels=[\"young\", \"middle\", \"old\"])"
   ]
  },
  {
   "cell_type": "code",
   "execution_count": 10,
   "id": "393234c6",
   "metadata": {},
   "outputs": [
    {
     "data": {
      "image/png": "[encoded data removed]",
      "text/plain": [
       "<Figure size 432x288 with 1 Axes>"
      ]
     },
     "metadata": {
      "needs_background": "light"
     },
     "output_type": "display_data"
    }
   ],
   "source": [
    "df.Age.value_counts(normalize=True).plot.bar()\n",
    "plt.show()"
   ]
  },
  {
   "cell_type": "code",
   "execution_count": 11,
   "id": "7e3ae2c3",
   "metadata": {},
   "outputs": [
    {
     "name": "stdout",
     "output_type": "stream",
     "text": [
      "<class 'pandas.core.frame.DataFrame'>\n",
      "RangeIndex: 4410 entries, 0 to 4409\n",
      "Data columns (total 28 columns):\n",
      " #   Column                   Non-Null Count  Dtype   \n",
      "---  ------                   --------------  -----   \n",
      " 0   Age                      4410 non-null   category\n",
      " 1   Attrition                4410 non-null   object  \n",
      " 2   BusinessTravel           4410 non-null   object  \n",
      " 3   Department               4410 non-null   object  \n",
      " 4   DistanceFromHome         4410 non-null   int64   \n",
      " 5   Education                4410 non-null   int64   \n",
      " 6   EducationField           4410 non-null   object  \n",
      " 7   EmployeeCount            4410 non-null   int64   \n",
      " 8   Gender                   4410 non-null   object  \n",
      " 9   JobLevel                 4410 non-null   int64   \n",
      " 10  JobRole                  4410 non-null   object  \n",
      " 11  MaritalStatus            4410 non-null   object  \n",
      " 12  MonthlyIncome            4410 non-null   int64   \n",
      " 13  NumCompaniesWorked       4391 non-null   float64 \n",
      " 14  Over18                   4410 non-null   object  \n",
      " 15  PercentSalaryHike        4410 non-null   int64   \n",
      " 16  StandardHours            4410 non-null   int64   \n",
      " 17  StockOptionLevel         4410 non-null   int64   \n",
      " 18  TotalWorkingYears        4401 non-null   float64 \n",
      " 19  TrainingTimesLastYear    4410 non-null   int64   \n",
      " 20  YearsAtCompany           4410 non-null   int64   \n",
      " 21  YearsSinceLastPromotion  4410 non-null   int64   \n",
      " 22  YearsWithCurrManager     4410 non-null   int64   \n",
      " 23  EnvironmentSatisfaction  4385 non-null   float64 \n",
      " 24  JobSatisfaction          4390 non-null   float64 \n",
      " 25  WorkLifeBalance          4372 non-null   float64 \n",
      " 26  JobInvolvement           4410 non-null   int64   \n",
      " 27  PerformanceRating        4410 non-null   int64   \n",
      "dtypes: category(1), float64(5), int64(14), object(8)\n",
      "memory usage: 934.8+ KB\n"
     ]
    }
   ],
   "source": [
    "df.info()"
   ]
  },
  {
   "cell_type": "code",
   "execution_count": 12,
   "id": "93e3ab21",
   "metadata": {},
   "outputs": [
    {
     "data": {
      "text/plain": [
       "count     4410\n",
       "unique       2\n",
       "top         No\n",
       "freq      3699\n",
       "Name: Attrition, dtype: object"
      ]
     },
     "execution_count": 12,
     "metadata": {},
     "output_type": "execute_result"
    }
   ],
   "source": [
    "df.Attrition.describe()"
   ]
  },
  {
   "cell_type": "code",
   "execution_count": 13,
   "id": "e0ac6353",
   "metadata": {},
   "outputs": [
    {
     "data": {
      "image/png": "[encoded data removed]",
      "text/plain": [
       "<Figure size 432x288 with 1 Axes>"
      ]
     },
     "metadata": {
      "needs_background": "light"
     },
     "output_type": "display_data"
    }
   ],
   "source": [
    "df.Attrition.value_counts(normalize=True).plot.bar(title = 'Attrition')\n",
    "plt.show()"
   ]
  },
  {
   "cell_type": "code",
   "execution_count": 14,
   "id": "79b46fc4",
   "metadata": {},
   "outputs": [],
   "source": [
    "df['Attrition'] = df['Attrition'].astype('category')"
   ]
  },
  {
   "cell_type": "code",
   "execution_count": 15,
   "id": "d4090828",
   "metadata": {},
   "outputs": [
    {
     "name": "stdout",
     "output_type": "stream",
     "text": [
      "<class 'pandas.core.frame.DataFrame'>\n",
      "RangeIndex: 4410 entries, 0 to 4409\n",
      "Data columns (total 28 columns):\n",
      " #   Column                   Non-Null Count  Dtype   \n",
      "---  ------                   --------------  -----   \n",
      " 0   Age                      4410 non-null   category\n",
      " 1   Attrition                4410 non-null   category\n",
      " 2   BusinessTravel           4410 non-null   object  \n",
      " 3   Department               4410 non-null   object  \n",
      " 4   DistanceFromHome         4410 non-null   int64   \n",
      " 5   Education                4410 non-null   int64   \n",
      " 6   EducationField           4410 non-null   object  \n",
      " 7   EmployeeCount            4410 non-null   int64   \n",
      " 8   Gender                   4410 non-null   object  \n",
      " 9   JobLevel                 4410 non-null   int64   \n",
      " 10  JobRole                  4410 non-null   object  \n",
      " 11  MaritalStatus            4410 non-null   object  \n",
      " 12  MonthlyIncome            4410 non-null   int64   \n",
      " 13  NumCompaniesWorked       4391 non-null   float64 \n",
      " 14  Over18                   4410 non-null   object  \n",
      " 15  PercentSalaryHike        4410 non-null   int64   \n",
      " 16  StandardHours            4410 non-null   int64   \n",
      " 17  StockOptionLevel         4410 non-null   int64   \n",
      " 18  TotalWorkingYears        4401 non-null   float64 \n",
      " 19  TrainingTimesLastYear    4410 non-null   int64   \n",
      " 20  YearsAtCompany           4410 non-null   int64   \n",
      " 21  YearsSinceLastPromotion  4410 non-null   int64   \n",
      " 22  YearsWithCurrManager     4410 non-null   int64   \n",
      " 23  EnvironmentSatisfaction  4385 non-null   float64 \n",
      " 24  JobSatisfaction          4390 non-null   float64 \n",
      " 25  WorkLifeBalance          4372 non-null   float64 \n",
      " 26  JobInvolvement           4410 non-null   int64   \n",
      " 27  PerformanceRating        4410 non-null   int64   \n",
      "dtypes: category(2), float64(5), int64(14), object(7)\n",
      "memory usage: 904.8+ KB\n"
     ]
    }
   ],
   "source": [
    "df.info()"
   ]
  },
  {
   "cell_type": "markdown",
   "id": "28e2bbed",
   "metadata": {},
   "source": [
    "### Drop EmployeeCount"
   ]
  },
  {
   "cell_type": "code",
   "execution_count": 16,
   "id": "279a5414",
   "metadata": {},
   "outputs": [
    {
     "data": {
      "image/png": "[encoded data removed]",
      "text/plain": [
       "<Figure size 432x288 with 1 Axes>"
      ]
     },
     "metadata": {
      "needs_background": "light"
     },
     "output_type": "display_data"
    }
   ],
   "source": [
    "df.EmployeeCount.value_counts(normalize=True).plot.bar()\n",
    "plt.show()"
   ]
  },
  {
   "cell_type": "code",
   "execution_count": 17,
   "id": "55b35b1c",
   "metadata": {},
   "outputs": [],
   "source": [
    "df = df.drop('EmployeeCount', axis=1)"
   ]
  },
  {
   "cell_type": "code",
   "execution_count": 18,
   "id": "fabe9bb1",
   "metadata": {},
   "outputs": [
    {
     "name": "stdout",
     "output_type": "stream",
     "text": [
      "<class 'pandas.core.frame.DataFrame'>\n",
      "RangeIndex: 4410 entries, 0 to 4409\n",
      "Data columns (total 27 columns):\n",
      " #   Column                   Non-Null Count  Dtype   \n",
      "---  ------                   --------------  -----   \n",
      " 0   Age                      4410 non-null   category\n",
      " 1   Attrition                4410 non-null   category\n",
      " 2   BusinessTravel           4410 non-null   object  \n",
      " 3   Department               4410 non-null   object  \n",
      " 4   DistanceFromHome         4410 non-null   int64   \n",
      " 5   Education                4410 non-null   int64   \n",
      " 6   EducationField           4410 non-null   object  \n",
      " 7   Gender                   4410 non-null   object  \n",
      " 8   JobLevel                 4410 non-null   int64   \n",
      " 9   JobRole                  4410 non-null   object  \n",
      " 10  MaritalStatus            4410 non-null   object  \n",
      " 11  MonthlyIncome            4410 non-null   int64   \n",
      " 12  NumCompaniesWorked       4391 non-null   float64 \n",
      " 13  Over18                   4410 non-null   object  \n",
      " 14  PercentSalaryHike        4410 non-null   int64   \n",
      " 15  StandardHours            4410 non-null   int64   \n",
      " 16  StockOptionLevel         4410 non-null   int64   \n",
      " 17  TotalWorkingYears        4401 non-null   float64 \n",
      " 18  TrainingTimesLastYear    4410 non-null   int64   \n",
      " 19  YearsAtCompany           4410 non-null   int64   \n",
      " 20  YearsSinceLastPromotion  4410 non-null   int64   \n",
      " 21  YearsWithCurrManager     4410 non-null   int64   \n",
      " 22  EnvironmentSatisfaction  4385 non-null   float64 \n",
      " 23  JobSatisfaction          4390 non-null   float64 \n",
      " 24  WorkLifeBalance          4372 non-null   float64 \n",
      " 25  JobInvolvement           4410 non-null   int64   \n",
      " 26  PerformanceRating        4410 non-null   int64   \n",
      "dtypes: category(2), float64(5), int64(13), object(7)\n",
      "memory usage: 870.3+ KB\n"
     ]
    }
   ],
   "source": [
    "df.info()"
   ]
  },
  {
   "cell_type": "code",
   "execution_count": 19,
   "id": "d7f94427",
   "metadata": {},
   "outputs": [
    {
     "data": {
      "image/png": "[encoded data removed]",
      "text/plain": [
       "<Figure size 432x288 with 1 Axes>"
      ]
     },
     "metadata": {
      "needs_background": "light"
     },
     "output_type": "display_data"
    }
   ],
   "source": [
    "df.BusinessTravel.value_counts(normalize=True).plot.bar()\n",
    "plt.show()"
   ]
  },
  {
   "cell_type": "code",
   "execution_count": 20,
   "id": "b4df6c3d",
   "metadata": {},
   "outputs": [],
   "source": [
    "df['BusinessTravel'] = df['BusinessTravel'].astype('category')"
   ]
  },
  {
   "cell_type": "code",
   "execution_count": 21,
   "id": "d4e3ffe4",
   "metadata": {},
   "outputs": [
    {
     "data": {
      "text/plain": [
       "count              4410\n",
       "unique                3\n",
       "top       Travel_Rarely\n",
       "freq               3129\n",
       "Name: BusinessTravel, dtype: object"
      ]
     },
     "execution_count": 21,
     "metadata": {},
     "output_type": "execute_result"
    }
   ],
   "source": [
    "df.BusinessTravel.describe()"
   ]
  },
  {
   "cell_type": "code",
   "execution_count": 22,
   "id": "e103bc13",
   "metadata": {},
   "outputs": [
    {
     "data": {
      "text/html": [
       "<div>\n",
       "<style scoped>\n",
       "    .dataframe tbody tr th:only-of-type {\n",
       "        vertical-align: middle;\n",
       "    }\n",
       "\n",
       "    .dataframe tbody tr th {\n",
       "        vertical-align: top;\n",
       "    }\n",
       "\n",
       "    .dataframe thead th {\n",
       "        text-align: right;\n",
       "    }\n",
       "</style>\n",
       "<table border=\"1\" class=\"dataframe\">\n",
       "  <thead>\n",
       "    <tr style=\"text-align: right;\">\n",
       "      <th></th>\n",
       "      <th>DistanceFromHome</th>\n",
       "      <th>Education</th>\n",
       "      <th>JobLevel</th>\n",
       "      <th>MonthlyIncome</th>\n",
       "      <th>NumCompaniesWorked</th>\n",
       "      <th>PercentSalaryHike</th>\n",
       "      <th>StandardHours</th>\n",
       "      <th>StockOptionLevel</th>\n",
       "      <th>TotalWorkingYears</th>\n",
       "      <th>TrainingTimesLastYear</th>\n",
       "      <th>YearsAtCompany</th>\n",
       "      <th>YearsSinceLastPromotion</th>\n",
       "      <th>YearsWithCurrManager</th>\n",
       "      <th>EnvironmentSatisfaction</th>\n",
       "      <th>JobSatisfaction</th>\n",
       "      <th>WorkLifeBalance</th>\n",
       "      <th>JobInvolvement</th>\n",
       "      <th>PerformanceRating</th>\n",
       "    </tr>\n",
       "  </thead>\n",
       "  <tbody>\n",
       "    <tr>\n",
       "      <th>count</th>\n",
       "      <td>4410.000000</td>\n",
       "      <td>4410.000000</td>\n",
       "      <td>4410.000000</td>\n",
       "      <td>4410.000000</td>\n",
       "      <td>4391.000000</td>\n",
       "      <td>4410.000000</td>\n",
       "      <td>4410.0</td>\n",
       "      <td>4410.000000</td>\n",
       "      <td>4401.000000</td>\n",
       "      <td>4410.000000</td>\n",
       "      <td>4410.000000</td>\n",
       "      <td>4410.000000</td>\n",
       "      <td>4410.000000</td>\n",
       "      <td>4385.000000</td>\n",
       "      <td>4390.000000</td>\n",
       "      <td>4372.000000</td>\n",
       "      <td>4410.000000</td>\n",
       "      <td>4410.000000</td>\n",
       "    </tr>\n",
       "    <tr>\n",
       "      <th>mean</th>\n",
       "      <td>9.192517</td>\n",
       "      <td>2.912925</td>\n",
       "      <td>2.063946</td>\n",
       "      <td>65029.312925</td>\n",
       "      <td>2.694830</td>\n",
       "      <td>15.209524</td>\n",
       "      <td>8.0</td>\n",
       "      <td>0.793878</td>\n",
       "      <td>11.279936</td>\n",
       "      <td>2.799320</td>\n",
       "      <td>7.008163</td>\n",
       "      <td>2.187755</td>\n",
       "      <td>4.123129</td>\n",
       "      <td>2.723603</td>\n",
       "      <td>2.728246</td>\n",
       "      <td>2.761436</td>\n",
       "      <td>2.729932</td>\n",
       "      <td>3.153741</td>\n",
       "    </tr>\n",
       "    <tr>\n",
       "      <th>std</th>\n",
       "      <td>8.105026</td>\n",
       "      <td>1.023933</td>\n",
       "      <td>1.106689</td>\n",
       "      <td>47068.888559</td>\n",
       "      <td>2.498887</td>\n",
       "      <td>3.659108</td>\n",
       "      <td>0.0</td>\n",
       "      <td>0.851883</td>\n",
       "      <td>7.782222</td>\n",
       "      <td>1.288978</td>\n",
       "      <td>6.125135</td>\n",
       "      <td>3.221699</td>\n",
       "      <td>3.567327</td>\n",
       "      <td>1.092756</td>\n",
       "      <td>1.101253</td>\n",
       "      <td>0.706245</td>\n",
       "      <td>0.711400</td>\n",
       "      <td>0.360742</td>\n",
       "    </tr>\n",
       "    <tr>\n",
       "      <th>min</th>\n",
       "      <td>1.000000</td>\n",
       "      <td>1.000000</td>\n",
       "      <td>1.000000</td>\n",
       "      <td>10090.000000</td>\n",
       "      <td>0.000000</td>\n",
       "      <td>11.000000</td>\n",
       "      <td>8.0</td>\n",
       "      <td>0.000000</td>\n",
       "      <td>0.000000</td>\n",
       "      <td>0.000000</td>\n",
       "      <td>0.000000</td>\n",
       "      <td>0.000000</td>\n",
       "      <td>0.000000</td>\n",
       "      <td>1.000000</td>\n",
       "      <td>1.000000</td>\n",
       "      <td>1.000000</td>\n",
       "      <td>1.000000</td>\n",
       "      <td>3.000000</td>\n",
       "    </tr>\n",
       "    <tr>\n",
       "      <th>25%</th>\n",
       "      <td>2.000000</td>\n",
       "      <td>2.000000</td>\n",
       "      <td>1.000000</td>\n",
       "      <td>29110.000000</td>\n",
       "      <td>1.000000</td>\n",
       "      <td>12.000000</td>\n",
       "      <td>8.0</td>\n",
       "      <td>0.000000</td>\n",
       "      <td>6.000000</td>\n",
       "      <td>2.000000</td>\n",
       "      <td>3.000000</td>\n",
       "      <td>0.000000</td>\n",
       "      <td>2.000000</td>\n",
       "      <td>2.000000</td>\n",
       "      <td>2.000000</td>\n",
       "      <td>2.000000</td>\n",
       "      <td>2.000000</td>\n",
       "      <td>3.000000</td>\n",
       "    </tr>\n",
       "    <tr>\n",
       "      <th>50%</th>\n",
       "      <td>7.000000</td>\n",
       "      <td>3.000000</td>\n",
       "      <td>2.000000</td>\n",
       "      <td>49190.000000</td>\n",
       "      <td>2.000000</td>\n",
       "      <td>14.000000</td>\n",
       "      <td>8.0</td>\n",
       "      <td>1.000000</td>\n",
       "      <td>10.000000</td>\n",
       "      <td>3.000000</td>\n",
       "      <td>5.000000</td>\n",
       "      <td>1.000000</td>\n",
       "      <td>3.000000</td>\n",
       "      <td>3.000000</td>\n",
       "      <td>3.000000</td>\n",
       "      <td>3.000000</td>\n",
       "      <td>3.000000</td>\n",
       "      <td>3.000000</td>\n",
       "    </tr>\n",
       "    <tr>\n",
       "      <th>75%</th>\n",
       "      <td>14.000000</td>\n",
       "      <td>4.000000</td>\n",
       "      <td>3.000000</td>\n",
       "      <td>83800.000000</td>\n",
       "      <td>4.000000</td>\n",
       "      <td>18.000000</td>\n",
       "      <td>8.0</td>\n",
       "      <td>1.000000</td>\n",
       "      <td>15.000000</td>\n",
       "      <td>3.000000</td>\n",
       "      <td>9.000000</td>\n",
       "      <td>3.000000</td>\n",
       "      <td>7.000000</td>\n",
       "      <td>4.000000</td>\n",
       "      <td>4.000000</td>\n",
       "      <td>3.000000</td>\n",
       "      <td>3.000000</td>\n",
       "      <td>3.000000</td>\n",
       "    </tr>\n",
       "    <tr>\n",
       "      <th>max</th>\n",
       "      <td>29.000000</td>\n",
       "      <td>5.000000</td>\n",
       "      <td>5.000000</td>\n",
       "      <td>199990.000000</td>\n",
       "      <td>9.000000</td>\n",
       "      <td>25.000000</td>\n",
       "      <td>8.0</td>\n",
       "      <td>3.000000</td>\n",
       "      <td>40.000000</td>\n",
       "      <td>6.000000</td>\n",
       "      <td>40.000000</td>\n",
       "      <td>15.000000</td>\n",
       "      <td>17.000000</td>\n",
       "      <td>4.000000</td>\n",
       "      <td>4.000000</td>\n",
       "      <td>4.000000</td>\n",
       "      <td>4.000000</td>\n",
       "      <td>4.000000</td>\n",
       "    </tr>\n",
       "  </tbody>\n",
       "</table>\n",
       "</div>"
      ],
      "text/plain": [
       "       DistanceFromHome    Education     JobLevel  MonthlyIncome  \\\n",
       "count       4410.000000  4410.000000  4410.000000    4410.000000   \n",
       "mean           9.192517     2.912925     2.063946   65029.312925   \n",
       "std            8.105026     1.023933     1.106689   47068.888559   \n",
       "min            1.000000     1.000000     1.000000   10090.000000   \n",
       "25%            2.000000     2.000000     1.000000   29110.000000   \n",
       "50%            7.000000     3.000000     2.000000   49190.000000   \n",
       "75%           14.000000     4.000000     3.000000   83800.000000   \n",
       "max           29.000000     5.000000     5.000000  199990.000000   \n",
       "\n",
       "       NumCompaniesWorked  PercentSalaryHike  StandardHours  StockOptionLevel  \\\n",
       "count         4391.000000        4410.000000         4410.0       4410.000000   \n",
       "mean             2.694830          15.209524            8.0          0.793878   \n",
       "std              2.498887           3.659108            0.0          0.851883   \n",
       "min              0.000000          11.000000            8.0          0.000000   \n",
       "25%              1.000000          12.000000            8.0          0.000000   \n",
       "50%              2.000000          14.000000            8.0          1.000000   \n",
       "75%              4.000000          18.000000            8.0          1.000000   \n",
       "max              9.000000          25.000000            8.0          3.000000   \n",
       "\n",
       "       TotalWorkingYears  TrainingTimesLastYear  YearsAtCompany  \\\n",
       "count        4401.000000            4410.000000     4410.000000   \n",
       "mean           11.279936               2.799320        7.008163   \n",
       "std             7.782222               1.288978        6.125135   \n",
       "min             0.000000               0.000000        0.000000   \n",
       "25%             6.000000               2.000000        3.000000   \n",
       "50%            10.000000               3.000000        5.000000   \n",
       "75%            15.000000               3.000000        9.000000   \n",
       "max            40.000000               6.000000       40.000000   \n",
       "\n",
       "       YearsSinceLastPromotion  YearsWithCurrManager  EnvironmentSatisfaction  \\\n",
       "count              4410.000000           4410.000000              4385.000000   \n",
       "mean                  2.187755              4.123129                 2.723603   \n",
       "std                   3.221699              3.567327                 1.092756   \n",
       "min                   0.000000              0.000000                 1.000000   \n",
       "25%                   0.000000              2.000000                 2.000000   \n",
       "50%                   1.000000              3.000000                 3.000000   \n",
       "75%                   3.000000              7.000000                 4.000000   \n",
       "max                  15.000000             17.000000                 4.000000   \n",
       "\n",
       "       JobSatisfaction  WorkLifeBalance  JobInvolvement  PerformanceRating  \n",
       "count      4390.000000      4372.000000     4410.000000        4410.000000  \n",
       "mean          2.728246         2.761436        2.729932           3.153741  \n",
       "std           1.101253         0.706245        0.711400           0.360742  \n",
       "min           1.000000         1.000000        1.000000           3.000000  \n",
       "25%           2.000000         2.000000        2.000000           3.000000  \n",
       "50%           3.000000         3.000000        3.000000           3.000000  \n",
       "75%           4.000000         3.000000        3.000000           3.000000  \n",
       "max           4.000000         4.000000        4.000000           4.000000  "
      ]
     },
     "execution_count": 22,
     "metadata": {},
     "output_type": "execute_result"
    }
   ],
   "source": [
    "df.describe()"
   ]
  },
  {
   "cell_type": "code",
   "execution_count": 23,
   "id": "a0aaf2d6",
   "metadata": {},
   "outputs": [
    {
     "data": {
      "text/plain": [
       "array([ 6, 10, 17,  2,  8, 11, 18,  1,  7, 28, 14,  3,  4, 16,  9,  5, 20,\n",
       "       29, 15, 13, 24, 19, 22, 25, 21, 26, 27, 12, 23])"
      ]
     },
     "execution_count": 23,
     "metadata": {},
     "output_type": "execute_result"
    }
   ],
   "source": [
    "df.DistanceFromHome.unique()"
   ]
  },
  {
   "cell_type": "code",
   "execution_count": 24,
   "id": "f2913d21",
   "metadata": {},
   "outputs": [
    {
     "data": {
      "image/png": "[encoded data removed]",
      "text/plain": [
       "<Figure size 432x288 with 1 Axes>"
      ]
     },
     "metadata": {
      "needs_background": "light"
     },
     "output_type": "display_data"
    }
   ],
   "source": [
    "df.DistanceFromHome.value_counts(normalize=True).plot.bar(title = 'Attrition')\n",
    "plt.show()"
   ]
  },
  {
   "cell_type": "code",
   "execution_count": 25,
   "id": "bac9f0f6",
   "metadata": {},
   "outputs": [
    {
     "data": {
      "text/html": [
       "<div>\n",
       "<style scoped>\n",
       "    .dataframe tbody tr th:only-of-type {\n",
       "        vertical-align: middle;\n",
       "    }\n",
       "\n",
       "    .dataframe tbody tr th {\n",
       "        vertical-align: top;\n",
       "    }\n",
       "\n",
       "    .dataframe thead th {\n",
       "        text-align: right;\n",
       "    }\n",
       "</style>\n",
       "<table border=\"1\" class=\"dataframe\">\n",
       "  <thead>\n",
       "    <tr style=\"text-align: right;\">\n",
       "      <th></th>\n",
       "      <th>Age</th>\n",
       "      <th>Attrition</th>\n",
       "      <th>BusinessTravel</th>\n",
       "      <th>Department</th>\n",
       "      <th>DistanceFromHome</th>\n",
       "      <th>Education</th>\n",
       "      <th>EducationField</th>\n",
       "      <th>Gender</th>\n",
       "      <th>JobLevel</th>\n",
       "      <th>JobRole</th>\n",
       "      <th>...</th>\n",
       "      <th>TotalWorkingYears</th>\n",
       "      <th>TrainingTimesLastYear</th>\n",
       "      <th>YearsAtCompany</th>\n",
       "      <th>YearsSinceLastPromotion</th>\n",
       "      <th>YearsWithCurrManager</th>\n",
       "      <th>EnvironmentSatisfaction</th>\n",
       "      <th>JobSatisfaction</th>\n",
       "      <th>WorkLifeBalance</th>\n",
       "      <th>JobInvolvement</th>\n",
       "      <th>PerformanceRating</th>\n",
       "    </tr>\n",
       "  </thead>\n",
       "  <tbody>\n",
       "    <tr>\n",
       "      <th>0</th>\n",
       "      <td>old</td>\n",
       "      <td>No</td>\n",
       "      <td>Travel_Rarely</td>\n",
       "      <td>Sales</td>\n",
       "      <td>6</td>\n",
       "      <td>2</td>\n",
       "      <td>Life Sciences</td>\n",
       "      <td>Female</td>\n",
       "      <td>1</td>\n",
       "      <td>Healthcare Representative</td>\n",
       "      <td>...</td>\n",
       "      <td>1.0</td>\n",
       "      <td>6</td>\n",
       "      <td>1</td>\n",
       "      <td>0</td>\n",
       "      <td>0</td>\n",
       "      <td>3.0</td>\n",
       "      <td>4.0</td>\n",
       "      <td>2.0</td>\n",
       "      <td>3</td>\n",
       "      <td>3</td>\n",
       "    </tr>\n",
       "    <tr>\n",
       "      <th>1</th>\n",
       "      <td>young</td>\n",
       "      <td>Yes</td>\n",
       "      <td>Travel_Frequently</td>\n",
       "      <td>Research &amp; Development</td>\n",
       "      <td>10</td>\n",
       "      <td>1</td>\n",
       "      <td>Life Sciences</td>\n",
       "      <td>Female</td>\n",
       "      <td>1</td>\n",
       "      <td>Research Scientist</td>\n",
       "      <td>...</td>\n",
       "      <td>6.0</td>\n",
       "      <td>3</td>\n",
       "      <td>5</td>\n",
       "      <td>1</td>\n",
       "      <td>4</td>\n",
       "      <td>3.0</td>\n",
       "      <td>2.0</td>\n",
       "      <td>4.0</td>\n",
       "      <td>2</td>\n",
       "      <td>4</td>\n",
       "    </tr>\n",
       "    <tr>\n",
       "      <th>2</th>\n",
       "      <td>young</td>\n",
       "      <td>No</td>\n",
       "      <td>Travel_Frequently</td>\n",
       "      <td>Research &amp; Development</td>\n",
       "      <td>17</td>\n",
       "      <td>4</td>\n",
       "      <td>Other</td>\n",
       "      <td>Male</td>\n",
       "      <td>4</td>\n",
       "      <td>Sales Executive</td>\n",
       "      <td>...</td>\n",
       "      <td>5.0</td>\n",
       "      <td>2</td>\n",
       "      <td>5</td>\n",
       "      <td>0</td>\n",
       "      <td>3</td>\n",
       "      <td>2.0</td>\n",
       "      <td>2.0</td>\n",
       "      <td>1.0</td>\n",
       "      <td>3</td>\n",
       "      <td>3</td>\n",
       "    </tr>\n",
       "    <tr>\n",
       "      <th>3</th>\n",
       "      <td>middle</td>\n",
       "      <td>No</td>\n",
       "      <td>Non-Travel</td>\n",
       "      <td>Research &amp; Development</td>\n",
       "      <td>2</td>\n",
       "      <td>5</td>\n",
       "      <td>Life Sciences</td>\n",
       "      <td>Male</td>\n",
       "      <td>3</td>\n",
       "      <td>Human Resources</td>\n",
       "      <td>...</td>\n",
       "      <td>13.0</td>\n",
       "      <td>5</td>\n",
       "      <td>8</td>\n",
       "      <td>7</td>\n",
       "      <td>5</td>\n",
       "      <td>4.0</td>\n",
       "      <td>4.0</td>\n",
       "      <td>3.0</td>\n",
       "      <td>2</td>\n",
       "      <td>3</td>\n",
       "    </tr>\n",
       "    <tr>\n",
       "      <th>4</th>\n",
       "      <td>young</td>\n",
       "      <td>No</td>\n",
       "      <td>Travel_Rarely</td>\n",
       "      <td>Research &amp; Development</td>\n",
       "      <td>10</td>\n",
       "      <td>1</td>\n",
       "      <td>Medical</td>\n",
       "      <td>Male</td>\n",
       "      <td>1</td>\n",
       "      <td>Sales Executive</td>\n",
       "      <td>...</td>\n",
       "      <td>9.0</td>\n",
       "      <td>2</td>\n",
       "      <td>6</td>\n",
       "      <td>0</td>\n",
       "      <td>4</td>\n",
       "      <td>4.0</td>\n",
       "      <td>1.0</td>\n",
       "      <td>3.0</td>\n",
       "      <td>3</td>\n",
       "      <td>3</td>\n",
       "    </tr>\n",
       "  </tbody>\n",
       "</table>\n",
       "<p>5 rows × 27 columns</p>\n",
       "</div>"
      ],
      "text/plain": [
       "      Age Attrition     BusinessTravel              Department  \\\n",
       "0     old        No      Travel_Rarely                   Sales   \n",
       "1   young       Yes  Travel_Frequently  Research & Development   \n",
       "2   young        No  Travel_Frequently  Research & Development   \n",
       "3  middle        No         Non-Travel  Research & Development   \n",
       "4   young        No      Travel_Rarely  Research & Development   \n",
       "\n",
       "   DistanceFromHome  Education EducationField  Gender  JobLevel  \\\n",
       "0                 6          2  Life Sciences  Female         1   \n",
       "1                10          1  Life Sciences  Female         1   \n",
       "2                17          4          Other    Male         4   \n",
       "3                 2          5  Life Sciences    Male         3   \n",
       "4                10          1        Medical    Male         1   \n",
       "\n",
       "                     JobRole  ... TotalWorkingYears  TrainingTimesLastYear  \\\n",
       "0  Healthcare Representative  ...               1.0                      6   \n",
       "1         Research Scientist  ...               6.0                      3   \n",
       "2            Sales Executive  ...               5.0                      2   \n",
       "3            Human Resources  ...              13.0                      5   \n",
       "4            Sales Executive  ...               9.0                      2   \n",
       "\n",
       "   YearsAtCompany YearsSinceLastPromotion  YearsWithCurrManager  \\\n",
       "0               1                       0                     0   \n",
       "1               5                       1                     4   \n",
       "2               5                       0                     3   \n",
       "3               8                       7                     5   \n",
       "4               6                       0                     4   \n",
       "\n",
       "   EnvironmentSatisfaction  JobSatisfaction  WorkLifeBalance  JobInvolvement  \\\n",
       "0                      3.0              4.0              2.0               3   \n",
       "1                      3.0              2.0              4.0               2   \n",
       "2                      2.0              2.0              1.0               3   \n",
       "3                      4.0              4.0              3.0               2   \n",
       "4                      4.0              1.0              3.0               3   \n",
       "\n",
       "   PerformanceRating  \n",
       "0                  3  \n",
       "1                  4  \n",
       "2                  3  \n",
       "3                  3  \n",
       "4                  3  \n",
       "\n",
       "[5 rows x 27 columns]"
      ]
     },
     "execution_count": 25,
     "metadata": {},
     "output_type": "execute_result"
    }
   ],
   "source": [
    "df.head()"
   ]
  },
  {
   "cell_type": "code",
   "execution_count": 26,
   "id": "1a1d86be",
   "metadata": {},
   "outputs": [
    {
     "name": "stdout",
     "output_type": "stream",
     "text": [
      "<class 'pandas.core.frame.DataFrame'>\n",
      "RangeIndex: 4410 entries, 0 to 4409\n",
      "Data columns (total 27 columns):\n",
      " #   Column                   Non-Null Count  Dtype   \n",
      "---  ------                   --------------  -----   \n",
      " 0   Age                      4410 non-null   category\n",
      " 1   Attrition                4410 non-null   category\n",
      " 2   BusinessTravel           4410 non-null   category\n",
      " 3   Department               4410 non-null   object  \n",
      " 4   DistanceFromHome         4410 non-null   int64   \n",
      " 5   Education                4410 non-null   int64   \n",
      " 6   EducationField           4410 non-null   object  \n",
      " 7   Gender                   4410 non-null   object  \n",
      " 8   JobLevel                 4410 non-null   int64   \n",
      " 9   JobRole                  4410 non-null   object  \n",
      " 10  MaritalStatus            4410 non-null   object  \n",
      " 11  MonthlyIncome            4410 non-null   int64   \n",
      " 12  NumCompaniesWorked       4391 non-null   float64 \n",
      " 13  Over18                   4410 non-null   object  \n",
      " 14  PercentSalaryHike        4410 non-null   int64   \n",
      " 15  StandardHours            4410 non-null   int64   \n",
      " 16  StockOptionLevel         4410 non-null   int64   \n",
      " 17  TotalWorkingYears        4401 non-null   float64 \n",
      " 18  TrainingTimesLastYear    4410 non-null   int64   \n",
      " 19  YearsAtCompany           4410 non-null   int64   \n",
      " 20  YearsSinceLastPromotion  4410 non-null   int64   \n",
      " 21  YearsWithCurrManager     4410 non-null   int64   \n",
      " 22  EnvironmentSatisfaction  4385 non-null   float64 \n",
      " 23  JobSatisfaction          4390 non-null   float64 \n",
      " 24  WorkLifeBalance          4372 non-null   float64 \n",
      " 25  JobInvolvement           4410 non-null   int64   \n",
      " 26  PerformanceRating        4410 non-null   int64   \n",
      "dtypes: category(3), float64(5), int64(13), object(6)\n",
      "memory usage: 840.3+ KB\n"
     ]
    }
   ],
   "source": [
    "df.info()"
   ]
  },
  {
   "cell_type": "markdown",
   "id": "85252dbc",
   "metadata": {},
   "source": [
    "### Drop Over18"
   ]
  },
  {
   "cell_type": "code",
   "execution_count": 27,
   "id": "79a10b48",
   "metadata": {},
   "outputs": [
    {
     "data": {
      "image/png": "[encoded data removed]",
      "text/plain": [
       "<Figure size 432x288 with 1 Axes>"
      ]
     },
     "metadata": {
      "needs_background": "light"
     },
     "output_type": "display_data"
    }
   ],
   "source": [
    "df.Over18.value_counts(normalize=True).plot.bar()\n",
    "plt.show()"
   ]
  },
  {
   "cell_type": "code",
   "execution_count": 28,
   "id": "4b90b529",
   "metadata": {},
   "outputs": [],
   "source": [
    "df = df.drop('Over18', axis=1)"
   ]
  },
  {
   "cell_type": "code",
   "execution_count": 29,
   "id": "dd6faaa6",
   "metadata": {},
   "outputs": [
    {
     "name": "stdout",
     "output_type": "stream",
     "text": [
      "<class 'pandas.core.frame.DataFrame'>\n",
      "RangeIndex: 4410 entries, 0 to 4409\n",
      "Data columns (total 26 columns):\n",
      " #   Column                   Non-Null Count  Dtype   \n",
      "---  ------                   --------------  -----   \n",
      " 0   Age                      4410 non-null   category\n",
      " 1   Attrition                4410 non-null   category\n",
      " 2   BusinessTravel           4410 non-null   category\n",
      " 3   Department               4410 non-null   object  \n",
      " 4   DistanceFromHome         4410 non-null   int64   \n",
      " 5   Education                4410 non-null   int64   \n",
      " 6   EducationField           4410 non-null   object  \n",
      " 7   Gender                   4410 non-null   object  \n",
      " 8   JobLevel                 4410 non-null   int64   \n",
      " 9   JobRole                  4410 non-null   object  \n",
      " 10  MaritalStatus            4410 non-null   object  \n",
      " 11  MonthlyIncome            4410 non-null   int64   \n",
      " 12  NumCompaniesWorked       4391 non-null   float64 \n",
      " 13  PercentSalaryHike        4410 non-null   int64   \n",
      " 14  StandardHours            4410 non-null   int64   \n",
      " 15  StockOptionLevel         4410 non-null   int64   \n",
      " 16  TotalWorkingYears        4401 non-null   float64 \n",
      " 17  TrainingTimesLastYear    4410 non-null   int64   \n",
      " 18  YearsAtCompany           4410 non-null   int64   \n",
      " 19  YearsSinceLastPromotion  4410 non-null   int64   \n",
      " 20  YearsWithCurrManager     4410 non-null   int64   \n",
      " 21  EnvironmentSatisfaction  4385 non-null   float64 \n",
      " 22  JobSatisfaction          4390 non-null   float64 \n",
      " 23  WorkLifeBalance          4372 non-null   float64 \n",
      " 24  JobInvolvement           4410 non-null   int64   \n",
      " 25  PerformanceRating        4410 non-null   int64   \n",
      "dtypes: category(3), float64(5), int64(13), object(5)\n",
      "memory usage: 805.8+ KB\n"
     ]
    }
   ],
   "source": [
    "df.info()"
   ]
  },
  {
   "cell_type": "markdown",
   "id": "1185c9c7",
   "metadata": {},
   "source": [
    "### Converting Gender for ease of processing\n",
    "- 'Female' : 0\n",
    "- 'Male' : 1"
   ]
  },
  {
   "cell_type": "code",
   "execution_count": 30,
   "id": "5e9c0342",
   "metadata": {},
   "outputs": [
    {
     "data": {
      "image/png": "[encoded data removed]",
      "text/plain": [
       "<Figure size 432x288 with 1 Axes>"
      ]
     },
     "metadata": {
      "needs_background": "light"
     },
     "output_type": "display_data"
    }
   ],
   "source": [
    "df.Gender.value_counts(normalize=True).plot.bar()\n",
    "plt.show()"
   ]
  },
  {
   "cell_type": "code",
   "execution_count": 31,
   "id": "2ab33510",
   "metadata": {},
   "outputs": [],
   "source": [
    "df['Gender'].replace(['Female','Male'], [0,1],inplace=True)"
   ]
  },
  {
   "cell_type": "code",
   "execution_count": 32,
   "id": "7735aedc",
   "metadata": {},
   "outputs": [
    {
     "data": {
      "text/plain": [
       "0    0\n",
       "1    0\n",
       "2    1\n",
       "3    1\n",
       "4    1\n",
       "5    0\n",
       "6    1\n",
       "7    1\n",
       "8    1\n",
       "9    0\n",
       "Name: Gender, dtype: int64"
      ]
     },
     "execution_count": 32,
     "metadata": {},
     "output_type": "execute_result"
    }
   ],
   "source": [
    "df.Gender.head(10)"
   ]
  },
  {
   "cell_type": "code",
   "execution_count": 33,
   "id": "2e023de0",
   "metadata": {},
   "outputs": [
    {
     "data": {
      "image/png": "[encoded data removed]",
      "text/plain": [
       "<Figure size 432x288 with 1 Axes>"
      ]
     },
     "metadata": {
      "needs_background": "light"
     },
     "output_type": "display_data"
    }
   ],
   "source": [
    "df.Department.value_counts(normalize=True).plot.bar()\n",
    "plt.show()"
   ]
  },
  {
   "cell_type": "code",
   "execution_count": 34,
   "id": "dab88992",
   "metadata": {},
   "outputs": [],
   "source": [
    "df['Department'] = df['Department'].astype('category')"
   ]
  },
  {
   "cell_type": "code",
   "execution_count": 35,
   "id": "bc269ca5",
   "metadata": {},
   "outputs": [
    {
     "data": {
      "image/png": "[encoded data removed]",
      "text/plain": [
       "<Figure size 432x288 with 1 Axes>"
      ]
     },
     "metadata": {
      "needs_background": "light"
     },
     "output_type": "display_data"
    }
   ],
   "source": [
    "df.EducationField.value_counts(normalize=True).plot.bar()\n",
    "plt.show()"
   ]
  },
  {
   "cell_type": "code",
   "execution_count": 36,
   "id": "ee427492",
   "metadata": {},
   "outputs": [
    {
     "data": {
      "text/plain": [
       "array(['Life Sciences', 'Other', 'Medical', 'Marketing',\n",
       "       'Technical Degree', 'Human Resources'], dtype=object)"
      ]
     },
     "execution_count": 36,
     "metadata": {},
     "output_type": "execute_result"
    }
   ],
   "source": [
    "df.EducationField.unique()"
   ]
  },
  {
   "cell_type": "code",
   "execution_count": 37,
   "id": "e92437bb",
   "metadata": {},
   "outputs": [
    {
     "name": "stdout",
     "output_type": "stream",
     "text": [
      "<class 'pandas.core.frame.DataFrame'>\n",
      "RangeIndex: 4410 entries, 0 to 4409\n",
      "Data columns (total 26 columns):\n",
      " #   Column                   Non-Null Count  Dtype   \n",
      "---  ------                   --------------  -----   \n",
      " 0   Age                      4410 non-null   category\n",
      " 1   Attrition                4410 non-null   category\n",
      " 2   BusinessTravel           4410 non-null   category\n",
      " 3   Department               4410 non-null   category\n",
      " 4   DistanceFromHome         4410 non-null   int64   \n",
      " 5   Education                4410 non-null   int64   \n",
      " 6   EducationField           4410 non-null   object  \n",
      " 7   Gender                   4410 non-null   int64   \n",
      " 8   JobLevel                 4410 non-null   int64   \n",
      " 9   JobRole                  4410 non-null   object  \n",
      " 10  MaritalStatus            4410 non-null   object  \n",
      " 11  MonthlyIncome            4410 non-null   int64   \n",
      " 12  NumCompaniesWorked       4391 non-null   float64 \n",
      " 13  PercentSalaryHike        4410 non-null   int64   \n",
      " 14  StandardHours            4410 non-null   int64   \n",
      " 15  StockOptionLevel         4410 non-null   int64   \n",
      " 16  TotalWorkingYears        4401 non-null   float64 \n",
      " 17  TrainingTimesLastYear    4410 non-null   int64   \n",
      " 18  YearsAtCompany           4410 non-null   int64   \n",
      " 19  YearsSinceLastPromotion  4410 non-null   int64   \n",
      " 20  YearsWithCurrManager     4410 non-null   int64   \n",
      " 21  EnvironmentSatisfaction  4385 non-null   float64 \n",
      " 22  JobSatisfaction          4390 non-null   float64 \n",
      " 23  WorkLifeBalance          4372 non-null   float64 \n",
      " 24  JobInvolvement           4410 non-null   int64   \n",
      " 25  PerformanceRating        4410 non-null   int64   \n",
      "dtypes: category(4), float64(5), int64(14), object(3)\n",
      "memory usage: 775.8+ KB\n"
     ]
    }
   ],
   "source": [
    "df.info()"
   ]
  },
  {
   "cell_type": "markdown",
   "id": "2f229fb4",
   "metadata": {},
   "source": [
    "### Handling Missing Values"
   ]
  },
  {
   "cell_type": "code",
   "execution_count": 38,
   "id": "f0c3e394",
   "metadata": {},
   "outputs": [
    {
     "data": {
      "text/plain": [
       "Age                         0\n",
       "Attrition                   0\n",
       "BusinessTravel              0\n",
       "Department                  0\n",
       "DistanceFromHome            0\n",
       "Education                   0\n",
       "EducationField              0\n",
       "Gender                      0\n",
       "JobLevel                    0\n",
       "JobRole                     0\n",
       "MaritalStatus               0\n",
       "MonthlyIncome               0\n",
       "NumCompaniesWorked         19\n",
       "PercentSalaryHike           0\n",
       "StandardHours               0\n",
       "StockOptionLevel            0\n",
       "TotalWorkingYears           9\n",
       "TrainingTimesLastYear       0\n",
       "YearsAtCompany              0\n",
       "YearsSinceLastPromotion     0\n",
       "YearsWithCurrManager        0\n",
       "EnvironmentSatisfaction    25\n",
       "JobSatisfaction            20\n",
       "WorkLifeBalance            38\n",
       "JobInvolvement              0\n",
       "PerformanceRating           0\n",
       "dtype: int64"
      ]
     },
     "execution_count": 38,
     "metadata": {},
     "output_type": "execute_result"
    }
   ],
   "source": [
    "df.isnull().sum()"
   ]
  },
  {
   "cell_type": "code",
   "execution_count": 39,
   "id": "837048a3",
   "metadata": {},
   "outputs": [
    {
     "data": {
      "text/plain": [
       "Age                        0.000\n",
       "Attrition                  0.000\n",
       "BusinessTravel             0.000\n",
       "Department                 0.000\n",
       "DistanceFromHome           0.000\n",
       "Education                  0.000\n",
       "EducationField             0.000\n",
       "Gender                     0.000\n",
       "JobLevel                   0.000\n",
       "JobRole                    0.000\n",
       "MaritalStatus              0.000\n",
       "MonthlyIncome              0.000\n",
       "NumCompaniesWorked         0.431\n",
       "PercentSalaryHike          0.000\n",
       "StandardHours              0.000\n",
       "StockOptionLevel           0.000\n",
       "TotalWorkingYears          0.204\n",
       "TrainingTimesLastYear      0.000\n",
       "YearsAtCompany             0.000\n",
       "YearsSinceLastPromotion    0.000\n",
       "YearsWithCurrManager       0.000\n",
       "EnvironmentSatisfaction    0.567\n",
       "JobSatisfaction            0.454\n",
       "WorkLifeBalance            0.862\n",
       "JobInvolvement             0.000\n",
       "PerformanceRating          0.000\n",
       "dtype: float64"
      ]
     },
     "execution_count": 39,
     "metadata": {},
     "output_type": "execute_result"
    }
   ],
   "source": [
    "df.isna().mean().round(5)*100"
   ]
  },
  {
   "cell_type": "markdown",
   "id": "5130f6a3",
   "metadata": {},
   "source": [
    "#### NumCompaniesWorked"
   ]
  },
  {
   "cell_type": "code",
   "execution_count": 41,
   "id": "e6c7efba",
   "metadata": {},
   "outputs": [
    {
     "data": {
      "text/plain": [
       "count    4391.000000\n",
       "mean        2.694830\n",
       "std         2.498887\n",
       "min         0.000000\n",
       "25%         1.000000\n",
       "50%         2.000000\n",
       "75%         4.000000\n",
       "max         9.000000\n",
       "Name: NumCompaniesWorked, dtype: float64"
      ]
     },
     "execution_count": 41,
     "metadata": {},
     "output_type": "execute_result"
    }
   ],
   "source": [
    "df.NumCompaniesWorked.describe()"
   ]
  },
  {
   "cell_type": "code",
   "execution_count": 40,
   "id": "63e0a209",
   "metadata": {},
   "outputs": [
    {
     "data": {
      "image/png": "[encoded data removed]",
      "text/plain": [
       "<Figure size 432x288 with 1 Axes>"
      ]
     },
     "metadata": {
      "needs_background": "light"
     },
     "output_type": "display_data"
    }
   ],
   "source": [
    "#Analyse the  column 'NumCompaniesWorked' for outliers.\n",
    "sb.boxplot(df['NumCompaniesWorked'])\n",
    "plt.show()"
   ]
  },
  {
   "cell_type": "code",
   "execution_count": 42,
   "id": "1cb5dd28",
   "metadata": {},
   "outputs": [
    {
     "data": {
      "image/png": "[encoded data removed]",
      "text/plain": [
       "<Figure size 432x288 with 1 Axes>"
      ]
     },
     "metadata": {
      "needs_background": "light"
     },
     "output_type": "display_data"
    }
   ],
   "source": [
    "sb.barplot(df.Attrition, df.NumCompaniesWorked)\n",
    "plt.show()"
   ]
  },
  {
   "cell_type": "code",
   "execution_count": 43,
   "id": "e331c63d",
   "metadata": {},
   "outputs": [],
   "source": [
    "df['NumCompaniesWorked'].fillna(int(df['NumCompaniesWorked'].mean()), inplace=True)"
   ]
  },
  {
   "cell_type": "code",
   "execution_count": 44,
   "id": "a354283a",
   "metadata": {},
   "outputs": [
    {
     "data": {
      "image/png": "[encoded data removed]",
      "text/plain": [
       "<Figure size 432x288 with 1 Axes>"
      ]
     },
     "metadata": {
      "needs_background": "light"
     },
     "output_type": "display_data"
    }
   ],
   "source": [
    "sb.barplot(df.Attrition, df.NumCompaniesWorked)\n",
    "plt.show()"
   ]
  },
  {
   "cell_type": "code",
   "execution_count": 45,
   "id": "1b927034",
   "metadata": {},
   "outputs": [
    {
     "data": {
      "text/plain": [
       "0.0"
      ]
     },
     "execution_count": 45,
     "metadata": {},
     "output_type": "execute_result"
    }
   ],
   "source": [
    "df.NumCompaniesWorked.isnull().mean()"
   ]
  },
  {
   "cell_type": "markdown",
   "id": "ef910d45",
   "metadata": {},
   "source": [
    "#### TotalWorkingYears"
   ]
  },
  {
   "cell_type": "code",
   "execution_count": 46,
   "id": "7222473c",
   "metadata": {},
   "outputs": [
    {
     "data": {
      "text/plain": [
       "count    4401.000000\n",
       "mean       11.279936\n",
       "std         7.782222\n",
       "min         0.000000\n",
       "25%         6.000000\n",
       "50%        10.000000\n",
       "75%        15.000000\n",
       "max        40.000000\n",
       "Name: TotalWorkingYears, dtype: float64"
      ]
     },
     "execution_count": 46,
     "metadata": {},
     "output_type": "execute_result"
    }
   ],
   "source": [
    "df.TotalWorkingYears.describe()"
   ]
  },
  {
   "cell_type": "code",
   "execution_count": 47,
   "id": "c0a2ac8c",
   "metadata": {},
   "outputs": [
    {
     "data": {
      "image/png": "[encoded data removed]",
      "text/plain": [
       "<Figure size 432x288 with 1 Axes>"
      ]
     },
     "metadata": {
      "needs_background": "light"
     },
     "output_type": "display_data"
    }
   ],
   "source": [
    "#Analyse the  column 'TotalWorkingYears' for outliers.\n",
    "sb.boxplot(df['TotalWorkingYears'])\n",
    "plt.show()"
   ]
  },
  {
   "cell_type": "code",
   "execution_count": 48,
   "id": "0978b21a",
   "metadata": {},
   "outputs": [
    {
     "data": {
      "image/png": "[encoded data removed]",
      "text/plain": [
       "<Figure size 432x288 with 1 Axes>"
      ]
     },
     "metadata": {
      "needs_background": "light"
     },
     "output_type": "display_data"
    }
   ],
   "source": [
    "sb.barplot(df.Attrition, df.TotalWorkingYears)\n",
    "plt.show()"
   ]
  },
  {
   "cell_type": "code",
   "execution_count": 49,
   "id": "20c3e895",
   "metadata": {},
   "outputs": [],
   "source": [
    "df['TotalWorkingYears'].fillna(float(df['TotalWorkingYears'].mean()), inplace=True)"
   ]
  },
  {
   "cell_type": "code",
   "execution_count": 50,
   "id": "d6bf1ad7",
   "metadata": {},
   "outputs": [
    {
     "data": {
      "image/png": "[encoded data removed]",
      "text/plain": [
       "<Figure size 432x288 with 1 Axes>"
      ]
     },
     "metadata": {
      "needs_background": "light"
     },
     "output_type": "display_data"
    }
   ],
   "source": [
    "sb.barplot(df.Attrition, df.TotalWorkingYears)\n",
    "plt.show()"
   ]
  },
  {
   "cell_type": "code",
   "execution_count": 51,
   "id": "d6af9a3c",
   "metadata": {},
   "outputs": [
    {
     "data": {
      "text/plain": [
       "0.0"
      ]
     },
     "execution_count": 51,
     "metadata": {},
     "output_type": "execute_result"
    }
   ],
   "source": [
    "df.TotalWorkingYears.isnull().mean()"
   ]
  },
  {
   "cell_type": "markdown",
   "id": "d6e33aa8",
   "metadata": {},
   "source": [
    "#### EnvironmentSatisfaction\n"
   ]
  },
  {
   "cell_type": "code",
   "execution_count": 52,
   "id": "24c069ec",
   "metadata": {},
   "outputs": [
    {
     "data": {
      "text/plain": [
       "count    4385.000000\n",
       "mean        2.723603\n",
       "std         1.092756\n",
       "min         1.000000\n",
       "25%         2.000000\n",
       "50%         3.000000\n",
       "75%         4.000000\n",
       "max         4.000000\n",
       "Name: EnvironmentSatisfaction, dtype: float64"
      ]
     },
     "execution_count": 52,
     "metadata": {},
     "output_type": "execute_result"
    }
   ],
   "source": [
    "df.EnvironmentSatisfaction.describe()"
   ]
  },
  {
   "cell_type": "code",
   "execution_count": 53,
   "id": "14f84ed8",
   "metadata": {},
   "outputs": [
    {
     "data": {
      "image/png": "[encoded data removed]",
      "text/plain": [
       "<Figure size 432x288 with 1 Axes>"
      ]
     },
     "metadata": {
      "needs_background": "light"
     },
     "output_type": "display_data"
    }
   ],
   "source": [
    "#Analyse the  column 'EnvironmentSatisfaction' for outliers.\n",
    "sb.boxplot(df['EnvironmentSatisfaction'])\n",
    "plt.show()"
   ]
  },
  {
   "cell_type": "code",
   "execution_count": 74,
   "id": "1ed8672a",
   "metadata": {},
   "outputs": [
    {
     "data": {
      "image/png": "[encoded data removed]",
      "text/plain": [
       "<Figure size 432x288 with 1 Axes>"
      ]
     },
     "metadata": {
      "needs_background": "light"
     },
     "output_type": "display_data"
    }
   ],
   "source": [
    "sb.barplot(df.Attrition, df.EnvironmentSatisfaction)\n",
    "plt.show()"
   ]
  },
  {
   "cell_type": "code",
   "execution_count": 66,
   "id": "8122d4a6",
   "metadata": {},
   "outputs": [],
   "source": [
    "df['EnvironmentSatisfaction'].fillna(float(df['EnvironmentSatisfaction'].median()), inplace=True)"
   ]
  },
  {
   "cell_type": "code",
   "execution_count": 67,
   "id": "47324aa3",
   "metadata": {},
   "outputs": [
    {
     "data": {
      "image/png": "[encoded data removed]",
      "text/plain": [
       "<Figure size 432x288 with 1 Axes>"
      ]
     },
     "metadata": {
      "needs_background": "light"
     },
     "output_type": "display_data"
    }
   ],
   "source": [
    "sb.barplot(df.Attrition, df.EnvironmentSatisfaction)\n",
    "plt.show()"
   ]
  },
  {
   "cell_type": "code",
   "execution_count": 73,
   "id": "b6e10bb7",
   "metadata": {},
   "outputs": [
    {
     "data": {
      "text/plain": [
       "0.0"
      ]
     },
     "execution_count": 73,
     "metadata": {},
     "output_type": "execute_result"
    }
   ],
   "source": [
    "df.EnvironmentSatisfaction.isnull().mean()"
   ]
  },
  {
   "cell_type": "markdown",
   "id": "5457dc0a",
   "metadata": {},
   "source": [
    "#### WorkLifeBalance"
   ]
  },
  {
   "cell_type": "code",
   "execution_count": 59,
   "id": "9d64eab8",
   "metadata": {},
   "outputs": [
    {
     "data": {
      "text/plain": [
       "count    4372.000000\n",
       "mean        2.761436\n",
       "std         0.706245\n",
       "min         1.000000\n",
       "25%         2.000000\n",
       "50%         3.000000\n",
       "75%         3.000000\n",
       "max         4.000000\n",
       "Name: WorkLifeBalance, dtype: float64"
      ]
     },
     "execution_count": 59,
     "metadata": {},
     "output_type": "execute_result"
    }
   ],
   "source": [
    "df.WorkLifeBalance.describe()"
   ]
  },
  {
   "cell_type": "code",
   "execution_count": 60,
   "id": "437dd83d",
   "metadata": {},
   "outputs": [
    {
     "data": {
      "image/png": "[encoded data removed]",
      "text/plain": [
       "<Figure size 432x288 with 1 Axes>"
      ]
     },
     "metadata": {
      "needs_background": "light"
     },
     "output_type": "display_data"
    }
   ],
   "source": [
    "sb.boxplot(df['WorkLifeBalance'])\n",
    "plt.show()"
   ]
  },
  {
   "cell_type": "code",
   "execution_count": 58,
   "id": "0213f6ad",
   "metadata": {},
   "outputs": [
    {
     "data": {
      "image/png": "[encoded data removed]",
      "text/plain": [
       "<Figure size 432x288 with 1 Axes>"
      ]
     },
     "metadata": {
      "needs_background": "light"
     },
     "output_type": "display_data"
    }
   ],
   "source": [
    "sb.barplot(df.Attrition, df.WorkLifeBalance)\n",
    "plt.show()"
   ]
  },
  {
   "cell_type": "code",
   "execution_count": 61,
   "id": "c4ae33eb",
   "metadata": {},
   "outputs": [],
   "source": [
    "df['WorkLifeBalance'].fillna(float(df['WorkLifeBalance'].median()), inplace=True)"
   ]
  },
  {
   "cell_type": "code",
   "execution_count": 62,
   "id": "086fc3fd",
   "metadata": {},
   "outputs": [
    {
     "data": {
      "image/png": "[encoded data removed]",
      "text/plain": [
       "<Figure size 432x288 with 1 Axes>"
      ]
     },
     "metadata": {
      "needs_background": "light"
     },
     "output_type": "display_data"
    }
   ],
   "source": [
    "sb.barplot(df.Attrition, df.WorkLifeBalance)\n",
    "plt.show()"
   ]
  },
  {
   "cell_type": "code",
   "execution_count": 71,
   "id": "3ab8fea6",
   "metadata": {},
   "outputs": [
    {
     "data": {
      "text/plain": [
       "0.0"
      ]
     },
     "execution_count": 71,
     "metadata": {},
     "output_type": "execute_result"
    }
   ],
   "source": [
    "df.WorkLifeBalance.isnull().mean()"
   ]
  },
  {
   "cell_type": "markdown",
   "id": "38545e51",
   "metadata": {},
   "source": [
    "#### JobSatisfaction"
   ]
  },
  {
   "cell_type": "code",
   "execution_count": 76,
   "id": "0c9a4b69",
   "metadata": {},
   "outputs": [
    {
     "data": {
      "text/plain": [
       "count    4390.000000\n",
       "mean        2.728246\n",
       "std         1.101253\n",
       "min         1.000000\n",
       "25%         2.000000\n",
       "50%         3.000000\n",
       "75%         4.000000\n",
       "max         4.000000\n",
       "Name: JobSatisfaction, dtype: float64"
      ]
     },
     "execution_count": 76,
     "metadata": {},
     "output_type": "execute_result"
    }
   ],
   "source": [
    "df.JobSatisfaction.describe()"
   ]
  },
  {
   "cell_type": "code",
   "execution_count": 77,
   "id": "15ac5215",
   "metadata": {},
   "outputs": [
    {
     "data": {
      "image/png": "[encoded data removed]",
      "text/plain": [
       "<Figure size 432x288 with 1 Axes>"
      ]
     },
     "metadata": {
      "needs_background": "light"
     },
     "output_type": "display_data"
    }
   ],
   "source": [
    "sb.boxplot(df['JobSatisfaction'])\n",
    "plt.show()"
   ]
  },
  {
   "cell_type": "code",
   "execution_count": 78,
   "id": "6a37abb7",
   "metadata": {},
   "outputs": [
    {
     "data": {
      "image/png": "[encoded data removed]",
      "text/plain": [
       "<Figure size 432x288 with 1 Axes>"
      ]
     },
     "metadata": {
      "needs_background": "light"
     },
     "output_type": "display_data"
    }
   ],
   "source": [
    "sb.barplot(df.Attrition, df.JobSatisfaction)\n",
    "plt.show()"
   ]
  },
  {
   "cell_type": "code",
   "execution_count": 79,
   "id": "7f554c5c",
   "metadata": {},
   "outputs": [],
   "source": [
    "df['JobSatisfaction'].fillna(float(df['JobSatisfaction'].median()), inplace=True)"
   ]
  },
  {
   "cell_type": "code",
   "execution_count": 80,
   "id": "ea09560c",
   "metadata": {},
   "outputs": [
    {
     "data": {
      "image/png": "[encoded data removed]",
      "text/plain": [
       "<Figure size 432x288 with 1 Axes>"
      ]
     },
     "metadata": {
      "needs_background": "light"
     },
     "output_type": "display_data"
    }
   ],
   "source": [
    "sb.barplot(df.Attrition, df.JobSatisfaction)\n",
    "plt.show()"
   ]
  },
  {
   "cell_type": "code",
   "execution_count": 81,
   "id": "b76394b1",
   "metadata": {},
   "outputs": [
    {
     "data": {
      "text/plain": [
       "0.0"
      ]
     },
     "execution_count": 81,
     "metadata": {},
     "output_type": "execute_result"
    }
   ],
   "source": [
    "df.JobSatisfaction.isnull().mean()"
   ]
  },
  {
   "cell_type": "code",
   "execution_count": 84,
   "id": "c3517bef",
   "metadata": {},
   "outputs": [
    {
     "data": {
      "text/plain": [
       "Age                        0.0\n",
       "Attrition                  0.0\n",
       "BusinessTravel             0.0\n",
       "Department                 0.0\n",
       "DistanceFromHome           0.0\n",
       "Education                  0.0\n",
       "EducationField             0.0\n",
       "Gender                     0.0\n",
       "JobLevel                   0.0\n",
       "JobRole                    0.0\n",
       "MaritalStatus              0.0\n",
       "MonthlyIncome              0.0\n",
       "NumCompaniesWorked         0.0\n",
       "PercentSalaryHike          0.0\n",
       "StandardHours              0.0\n",
       "StockOptionLevel           0.0\n",
       "TotalWorkingYears          0.0\n",
       "TrainingTimesLastYear      0.0\n",
       "YearsAtCompany             0.0\n",
       "YearsSinceLastPromotion    0.0\n",
       "YearsWithCurrManager       0.0\n",
       "EnvironmentSatisfaction    0.0\n",
       "JobSatisfaction            0.0\n",
       "WorkLifeBalance            0.0\n",
       "JobInvolvement             0.0\n",
       "PerformanceRating          0.0\n",
       "dtype: float64"
      ]
     },
     "execution_count": 84,
     "metadata": {},
     "output_type": "execute_result"
    }
   ],
   "source": [
    "df.isna().mean().round(5)*100"
   ]
  },
  {
   "cell_type": "code",
   "execution_count": null,
   "id": "4457bf48",
   "metadata": {},
   "outputs": [],
   "source": []
  }
 ],
 "metadata": {
  "kernelspec": {
   "display_name": "Python 3 (ipykernel)",
   "language": "python",
   "name": "python3"
  },
  "language_info": {
   "codemirror_mode": {
    "name": "ipython",
    "version": 3
   },
   "file_extension": ".py",
   "mimetype": "text/x-python",
   "name": "python",
   "nbconvert_exporter": "python",
   "pygments_lexer": "ipython3",
   "version": "3.9.7"
  }
 },
 "nbformat": 4,
 "nbformat_minor": 5
}
